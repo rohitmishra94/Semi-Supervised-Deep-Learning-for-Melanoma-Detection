{
  "nbformat": 4,
  "nbformat_minor": 0,
  "metadata": {
    "colab": {
      "name": "Pytorch MNIST Classifier.ipynb",
      "provenance": []
    },
    "kernelspec": {
      "name": "python3",
      "display_name": "Python 3"
    },
    "accelerator": "GPU"
  },
  "cells": [
    {
      "cell_type": "markdown",
      "metadata": {
        "id": "6RKK7kVCQOcE",
        "colab_type": "text"
      },
      "source": [
        "Libraries"
      ]
    },
    {
      "cell_type": "code",
      "metadata": {
        "id": "GC7ogEALQN9U",
        "colab_type": "code",
        "colab": {}
      },
      "source": [
        ""
      ],
      "execution_count": null,
      "outputs": []
    },
    {
      "cell_type": "code",
      "metadata": {
        "id": "RjRe4WN3wUfO",
        "colab_type": "code",
        "colab": {}
      },
      "source": [
        "import torch      \n",
        "from torch import nn\n",
        "from torch import optim\n",
        "import torchvision\n",
        "import torch.nn.functional as F\n",
        "import torchvision.transforms as transforms"
      ],
      "execution_count": 5,
      "outputs": []
    },
    {
      "cell_type": "markdown",
      "metadata": {
        "id": "Z66Y0KoGQSbo",
        "colab_type": "text"
      },
      "source": [
        "Dataset and data loader"
      ]
    },
    {
      "cell_type": "code",
      "metadata": {
        "id": "HxaidHKZ0Wkx",
        "colab_type": "code",
        "colab": {}
      },
      "source": [
        "transform = transforms.Compose(         \n",
        "    [transforms.ToTensor(),\n",
        "    transforms.Normalize((0.1307,), (0.3081,))])"
      ],
      "execution_count": 6,
      "outputs": []
    },
    {
      "cell_type": "code",
      "metadata": {
        "id": "DcbK9W_eyky5",
        "colab_type": "code",
        "colab": {}
      },
      "source": [
        "trainset=torchvision.datasets.MNIST(root='./data',download=True,transform=transform)\n",
        "testset=torchvision.datasets.MNIST(root='./data',train=False,download=True,transform=transform)"
      ],
      "execution_count": 7,
      "outputs": []
    },
    {
      "cell_type": "code",
      "metadata": {
        "id": "KQM-d6rmzR4Y",
        "colab_type": "code",
        "colab": {}
      },
      "source": [
        "trainloader = torch.utils.data.DataLoader(trainset, batch_size=64,\n",
        "                                          shuffle=True,)"
      ],
      "execution_count": 8,
      "outputs": []
    },
    {
      "cell_type": "code",
      "metadata": {
        "id": "a3fwdjsV3eQX",
        "colab_type": "code",
        "colab": {}
      },
      "source": [
        "testloader = torch.utils.data.DataLoader(testset, batch_size=64,\n",
        "                                         shuffle=False,)"
      ],
      "execution_count": 9,
      "outputs": []
    },
    {
      "cell_type": "markdown",
      "metadata": {
        "id": "9fmRAhE_QYXz",
        "colab_type": "text"
      },
      "source": [
        "CNN model "
      ]
    },
    {
      "cell_type": "code",
      "metadata": {
        "id": "Ip8PCwuJwrRG",
        "colab_type": "code",
        "colab": {}
      },
      "source": [
        "class net(nn.Module):\n",
        "  def __init__(self):\n",
        "        super().__init__()\n",
        "        self.conv1 = nn.Conv2d(1, 16, kernel_size=3, stride=2, padding=1)\n",
        "        self.conv2 = nn.Conv2d(16, 16, kernel_size=3, stride=2, padding=1)\n",
        "        self.conv3 = nn.Conv2d(16, 10, kernel_size=3, stride=2, padding=1)\n",
        "      \n",
        "\n",
        "  def forward(self, xb):\n",
        "        \n",
        "        xb = F.relu(self.conv1(xb))\n",
        "        xb = F.relu(self.conv2(xb))\n",
        "        xb = F.relu(self.conv3(xb))\n",
        "        xb = F.avg_pool2d(xb, 4)\n",
        "        return xb.view(-1, xb.size(1))\n",
        "\n",
        "network=net()"
      ],
      "execution_count": 94,
      "outputs": []
    },
    {
      "cell_type": "markdown",
      "metadata": {
        "id": "WkZhyOeMQiKu",
        "colab_type": "text"
      },
      "source": [
        "loss and optimizer"
      ]
    },
    {
      "cell_type": "code",
      "metadata": {
        "id": "_5RmP-EJx6sj",
        "colab_type": "code",
        "colab": {}
      },
      "source": [
        "loss_func = F.cross_entropy\n",
        "opt=optim.Adam(network.parameters())"
      ],
      "execution_count": 89,
      "outputs": []
    },
    {
      "cell_type": "markdown",
      "metadata": {
        "id": "z-AT7iuGQ6-c",
        "colab_type": "text"
      },
      "source": [
        "creating additional fuction to track loss "
      ]
    },
    {
      "cell_type": "code",
      "metadata": {
        "id": "_qKFJt5mMHuK",
        "colab_type": "code",
        "colab": {}
      },
      "source": [
        "trainingloss=[]\n",
        "validationloss=[]"
      ],
      "execution_count": 90,
      "outputs": []
    },
    {
      "cell_type": "code",
      "metadata": {
        "id": "HzdEEYYhz9-e",
        "colab_type": "code",
        "colab": {}
      },
      "source": [
        "def loss_batch(model, loss_func, xb, yb, opt=None):\n",
        "    loss = loss_func(model(xb), yb)\n",
        "    \n",
        "\n",
        "    if opt is not None:\n",
        "        loss.backward()\n",
        "        opt.step()\n",
        "        opt.zero_grad()\n",
        "\n",
        "    return loss.item(), len(xb)"
      ],
      "execution_count": 91,
      "outputs": []
    },
    {
      "cell_type": "code",
      "metadata": {
        "id": "5465-6IUyN7u",
        "colab_type": "code",
        "colab": {}
      },
      "source": [
        "import numpy as np\n",
        "\n",
        "def fit(epochs, model, loss_func, opt, train_dl, valid_dl):\n",
        "    for epoch in range(epochs):\n",
        "        model.train()\n",
        "        #for xb, yb in train_dl:\n",
        "        losses, nums = zip(\n",
        "                *[loss_batch(model, loss_func, xb, yb,opt) for xb, yb in train_dl]\n",
        "            )\n",
        "        train_loss = np.sum(np.multiply(losses, nums)) / np.sum(nums)\n",
        "        trainingloss.append(train_loss)\n",
        "        #print(epoch, train_loss)\n",
        "        model.eval()\n",
        "        with torch.no_grad():\n",
        "            losses, nums = zip(\n",
        "                *[loss_batch(model, loss_func, xb, yb) for xb, yb in valid_dl]\n",
        "            )\n",
        "        val_loss = np.sum(np.multiply(losses, nums)) / np.sum(nums)\n",
        "        validationloss.append(val_loss)\n",
        "\n",
        "        print('Epoch :{}, training_loss :{}, validation_loss :{}'.format(epoch, train_loss,val_loss))"
      ],
      "execution_count": 92,
      "outputs": []
    },
    {
      "cell_type": "markdown",
      "metadata": {
        "id": "9FQ0r4ImRBIp",
        "colab_type": "text"
      },
      "source": [
        "fitting the model for 5 epochs"
      ]
    },
    {
      "cell_type": "code",
      "metadata": {
        "id": "X3FYRepB1_sp",
        "colab_type": "code",
        "colab": {
          "base_uri": "https://localhost:8080/",
          "height": 109
        },
        "outputId": "73f5af8f-85b2-46e3-ab33-42a894dddbce"
      },
      "source": [
        "fit(5,network,loss_func,opt,trainloader,testloader)"
      ],
      "execution_count": 95,
      "outputs": [
        {
          "output_type": "stream",
          "text": [
            "Epoch :0, training_loss :0.638464394346873, validation_loss :0.49165101990699767\n",
            "Epoch :1, training_loss :0.4347897919654846, validation_loss :0.36649537646770475\n",
            "Epoch :2, training_loss :0.358929198773702, validation_loss :0.3056700393795967\n",
            "Epoch :3, training_loss :0.3149868702729543, validation_loss :0.30237823964357374\n",
            "Epoch :4, training_loss :0.28504337629477183, validation_loss :0.26244508274793626\n"
          ],
          "name": "stdout"
        }
      ]
    },
    {
      "cell_type": "code",
      "metadata": {
        "id": "01nCF1r8MY2t",
        "colab_type": "code",
        "colab": {
          "base_uri": "https://localhost:8080/",
          "height": 280
        },
        "outputId": "3e8c8d13-7ec5-4a08-b2bf-1987b39afd55"
      },
      "source": [
        "%matplotlib inline\n",
        "import matplotlib.pyplot as plt\n",
        "plt.plot(range(1,6,1),trainingloss,'b',label='training_loss')\n",
        "plt.plot(range(1,6,1),validationloss,'r',label='validation_loss')\n",
        "plt.legend()\n",
        "plt.xlabel('Epochs')\n",
        "plt.ylabel('Loss')\n",
        "plt.show()"
      ],
      "execution_count": 98,
      "outputs": [
        {
          "output_type": "display_data",
          "data": {
            "image/png": "[encoded data removed]",
            "text/plain": [
              "<Figure size 432x288 with 1 Axes>"
            ]
          },
          "metadata": {
            "tags": [],
            "needs_background": "light"
          }
        }
      ]
    },
    {
      "cell_type": "code",
      "metadata": {
        "id": "nv7w7jpALeZ9",
        "colab_type": "code",
        "colab": {}
      },
      "source": [
        "# to get prediction result\n",
        "predictions = np.argmax(network(xb).detach().numpy(),axis=1)"
      ],
      "execution_count": 80,
      "outputs": []
    }
  ]
}